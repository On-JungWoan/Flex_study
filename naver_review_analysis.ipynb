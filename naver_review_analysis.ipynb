{
  "nbformat": 4,
  "nbformat_minor": 0,
  "metadata": {
    "colab": {
      "name": "naver_review_analysis.ipynb",
      "provenance": [],
      "collapsed_sections": [],
      "authorship_tag": "ABX9TyNjybKF/OLxlx97Ue2fpZ+6",
      "include_colab_link": true
    },
    "kernelspec": {
      "name": "python3",
      "display_name": "Python 3"
    },
    "language_info": {
      "name": "python"
    }
  },
  "cells": [
    {
      "cell_type": "markdown",
      "metadata": {
        "id": "view-in-github",
        "colab_type": "text"
      },
      "source": [
        "<a href=\"https://colab.research.google.com/github/On-JungWoan/Flex_study/blob/main/naver_review_analysis.ipynb\" target=\"_parent\"><img src=\"https://colab.research.google.com/assets/colab-badge.svg\" alt=\"Open In Colab\"/></a>"
      ]
    },
    {
      "cell_type": "markdown",
      "source": [
        "# **< 네이버 영화(해적: 도깨비 깃발) 감성분석 >**"
      ],
      "metadata": {
        "id": "TZg1NauJh09b"
      }
    },
    {
      "cell_type": "markdown",
      "source": [
        "## **0. 사용 모듈**"
      ],
      "metadata": {
        "id": "5m4egPr_h_h-"
      }
    },
    {
      "cell_type": "code",
      "source": [
        "!pip install selenium\n",
        "!apt-get update\n",
        "!apt install chromium-chromedriver"
      ],
      "metadata": {
        "id": "4qiu0rikOFT5"
      },
      "execution_count": null,
      "outputs": []
    },
    {
      "cell_type": "code",
      "execution_count": null,
      "metadata": {
        "id": "LN2STGQeNzzo"
      },
      "outputs": [],
      "source": [
        "from selenium import webdriver\n",
        "from bs4 import BeautifulSoup as bs\n",
        "import pandas as pd\n",
        "from tqdm import tqdm\n",
        "from konlpy.tag import Okt\n",
        "from collections import Counter\n",
        "import re\n",
        "import numpy as np\n",
        "from sklearn.feature_extraction.text import CountVectorizer\n",
        "from sklearn.feature_extraction.text import TfidfTransformer\n",
        "from sklearn.model_selection import train_test_split\n",
        "from sklearn.linear_model import LogisticRegression\n",
        "from sklearn.metrics import accuracy_score, precision_score, recall_score, f1_score, confusion_matrix\n",
        "import matplotlib.pyplot as plt\n",
        "import seaborn as sns\n",
        "\n",
        "okt = Okt()"
      ]
    },
    {
      "cell_type": "markdown",
      "source": [
        "## **1. Selenium, BS를 사용한 네이버 영화 리뷰 사이트 동적 웹 크롤링**"
      ],
      "metadata": {
        "id": "E2RxjANCiG3i"
      }
    },
    {
      "cell_type": "markdown",
      "source": [
        "### 1) colab 환경 chrome driver 초기 설정\n",
        "\n"
      ],
      "metadata": {
        "id": "KtGPot4hiTvy"
      }
    },
    {
      "cell_type": "code",
      "source": [
        "chrome_options = webdriver.ChromeOptions()\n",
        "chrome_options.add_argument('--headless')\n",
        "chrome_options.add_argument('--no-sandbox')\n",
        "chrome_options.add_argument('--disable-dev-shm-usage')\n",
        "driver = webdriver.Chrome('chromedriver', chrome_options=chrome_options)"
      ],
      "metadata": {
        "colab": {
          "base_uri": "https://localhost:8080/"
        },
        "id": "H_BWoFMxOSmh",
        "outputId": "fd79722a-47a3-41a4-cf1c-d2929b6d6dc4"
      },
      "execution_count": null,
      "outputs": [
        {
          "output_type": "stream",
          "name": "stderr",
          "text": [
            "/usr/local/lib/python3.7/dist-packages/ipykernel_launcher.py:5: DeprecationWarning: use options instead of chrome_options\n",
            "  \"\"\"\n"
          ]
        }
      ]
    },
    {
      "cell_type": "markdown",
      "source": [
        "### 2) 영화 리뷰 사이트 크롤링"
      ],
      "metadata": {
        "id": "yNJ838P-i-_M"
      }
    },
    {
      "cell_type": "code",
      "source": [
        "url = 'https://movie.naver.com/movie/bi/mi/point.naver?code=194204'\n",
        "driver.get(url)\n",
        "\n",
        "frm = driver.find_element_by_class_name('ifr')\n",
        "driver.switch_to.frame(frm)\n",
        "# 댓글 알바 제외 및 최신 정보 반영을 위해 댓글 최신순으로 정렬\n",
        "rcnt = driver.find_element_by_css_selector('#orderCheckbox > ul.sorting_list > li:nth-child(2) > a')\n",
        "rcnt.click()\n",
        "\n",
        "score_list = []\n",
        "review_list = []\n",
        "for cnt in tqdm(range(300)):\n",
        "\n",
        "  for i in range(10):\n",
        "    score = driver.find_element_by_css_selector('body > div > div > div.score_result > ul > li:nth-child('\\\n",
        "                                                +str(i+1)+') > div.star_score > em').text\n",
        "    review = driver.find_element_by_id('_filtered_ment_'+str(i)).text\n",
        "    score_list.append(score)\n",
        "    review_list.append(review)\n",
        "\n",
        "  next_but = driver.find_element_by_id('pagerTagAnchor'+str(cnt+2))\n",
        "  next_but.click()"
      ],
      "metadata": {
        "colab": {
          "base_uri": "https://localhost:8080/"
        },
        "id": "SVbhF2nuOaIl",
        "outputId": "3455a11b-05db-49c7-9bea-2c4e3cb20b7c"
      },
      "execution_count": null,
      "outputs": [
        {
          "output_type": "stream",
          "name": "stderr",
          "text": [
            "/usr/local/lib/python3.7/dist-packages/ipykernel_launcher.py:4: DeprecationWarning: find_element_by_* commands are deprecated. Please use find_element() instead\n",
            "  after removing the cwd from sys.path.\n",
            "/usr/local/lib/python3.7/dist-packages/ipykernel_launcher.py:7: DeprecationWarning: find_element_by_* commands are deprecated. Please use find_element() instead\n",
            "  import sys\n",
            "  0%|          | 0/300 [00:00<?, ?it/s]/usr/local/lib/python3.7/dist-packages/ipykernel_launcher.py:15: DeprecationWarning: find_element_by_* commands are deprecated. Please use find_element() instead\n",
            "  from ipykernel import kernelapp as app\n",
            "/usr/local/lib/python3.7/dist-packages/ipykernel_launcher.py:16: DeprecationWarning: find_element_by_* commands are deprecated. Please use find_element() instead\n",
            "  app.launch_new_instance()\n",
            "/usr/local/lib/python3.7/dist-packages/ipykernel_launcher.py:20: DeprecationWarning: find_element_by_* commands are deprecated. Please use find_element() instead\n",
            "100%|██████████| 300/300 [05:14<00:00,  1.05s/it]\n"
          ]
        }
      ]
    },
    {
      "cell_type": "markdown",
      "source": [
        "### 3) 데이터 프레임 생성 및 전처리"
      ],
      "metadata": {
        "id": "J73ZXnl5jiY5"
      }
    },
    {
      "cell_type": "markdown",
      "source": [
        "- 결측치 처리"
      ],
      "metadata": {
        "id": "uT3DmTCLkfP9"
      }
    },
    {
      "cell_type": "code",
      "source": [
        "df = pd.DataFrame({'review':review_list,'score':score_list})\n",
        "print(df.shape)\n",
        "\n",
        "def rmv_empty(org_data, data_):\n",
        "  ret = org_data[ data_.apply(lambda x: x!='') ]\n",
        "\n",
        "  return ret"
      ],
      "metadata": {
        "id": "V8Wp4V3eo8oy"
      },
      "execution_count": null,
      "outputs": []
    },
    {
      "cell_type": "code",
      "source": [
        "# 스포일러 방지를 위해 공백처리 된 댓글 제거\n",
        "df = rmv_empty(df, df.review)\n",
        "print(df.shape)"
      ],
      "metadata": {
        "id": "wk2nC2nYhcPp"
      },
      "execution_count": null,
      "outputs": []
    },
    {
      "cell_type": "markdown",
      "source": [
        "- object -> int형으로 변경"
      ],
      "metadata": {
        "id": "94hA4mUJkp_1"
      }
    },
    {
      "cell_type": "code",
      "source": [
        "df['score'] = df.score.astype('int')\n",
        "df.score"
      ],
      "metadata": {
        "id": "tDCBg0-EktNJ"
      },
      "execution_count": null,
      "outputs": []
    },
    {
      "cell_type": "code",
      "source": [
        "df"
      ],
      "metadata": {
        "colab": {
          "base_uri": "https://localhost:8080/",
          "height": 424
        },
        "id": "ULtfodmRpTU3",
        "outputId": "d7abb285-6790-42c4-ff74-532c0ac9de07"
      },
      "execution_count": null,
      "outputs": [
        {
          "output_type": "execute_result",
          "data": {
            "text/html": [
              "\n",
              "  <div id=\"df-8f5a8651-60f5-4dfd-945a-f37f78871eab\">\n",
              "    <div class=\"colab-df-container\">\n",
              "      <div>\n",
              "<style scoped>\n",
              "    .dataframe tbody tr th:only-of-type {\n",
              "        vertical-align: middle;\n",
              "    }\n",
              "\n",
              "    .dataframe tbody tr th {\n",
              "        vertical-align: top;\n",
              "    }\n",
              "\n",
              "    .dataframe thead th {\n",
              "        text-align: right;\n",
              "    }\n",
              "</style>\n",
              "<table border=\"1\" class=\"dataframe\">\n",
              "  <thead>\n",
              "    <tr style=\"text-align: right;\">\n",
              "      <th></th>\n",
              "      <th>review</th>\n",
              "      <th>score</th>\n",
              "    </tr>\n",
              "  </thead>\n",
              "  <tbody>\n",
              "    <tr>\n",
              "      <th>0</th>\n",
              "      <td>여름에 개봉했으면 나았으려나...</td>\n",
              "      <td>5</td>\n",
              "    </tr>\n",
              "    <tr>\n",
              "      <th>1</th>\n",
              "      <td>재밌었다. 물론 어색한 부분도 있었지만 그래도 극장에서 소리낼 만큼 웃어본 건 좀 ...</td>\n",
              "      <td>7</td>\n",
              "    </tr>\n",
              "    <tr>\n",
              "      <th>2</th>\n",
              "      <td>형 만한 아우 있기 어렵다는 옛말이 오늘 따라 실시간 뉴스에 나오는 말 같다.</td>\n",
              "      <td>7</td>\n",
              "    </tr>\n",
              "    <tr>\n",
              "      <th>3</th>\n",
              "      <td>펭귄이 다했다 펭귄의 미친 존재감</td>\n",
              "      <td>6</td>\n",
              "    </tr>\n",
              "    <tr>\n",
              "      <th>4</th>\n",
              "      <td>굳이 2편이 나왔어야 할 일인가</td>\n",
              "      <td>4</td>\n",
              "    </tr>\n",
              "    <tr>\n",
              "      <th>...</th>\n",
              "      <td>...</td>\n",
              "      <td>...</td>\n",
              "    </tr>\n",
              "    <tr>\n",
              "      <th>2994</th>\n",
              "      <td>평점이 별로라 기대안했는데 은근 꿀잼</td>\n",
              "      <td>10</td>\n",
              "    </tr>\n",
              "    <tr>\n",
              "      <th>2995</th>\n",
              "      <td>혹평들이 굉장히 많은데 저랑 가족들은 굉장히 재밌게 봤습니다 한효주배우님의 캐릭터의...</td>\n",
              "      <td>10</td>\n",
              "    </tr>\n",
              "    <tr>\n",
              "      <th>2996</th>\n",
              "      <td>1편에 비해 스케일만 커졌을뿐 개연성 없는 전개와 특히 한효주의 어울리지 않는 억지...</td>\n",
              "      <td>5</td>\n",
              "    </tr>\n",
              "    <tr>\n",
              "      <th>2997</th>\n",
              "      <td>명절지난후 감독은 대국민사과 그리고 영화비 환불 청문회하기 바란다 난 보면서 196...</td>\n",
              "      <td>1</td>\n",
              "    </tr>\n",
              "    <tr>\n",
              "      <th>2999</th>\n",
              "      <td>Kpop을 사랑하는 외국인들 안봐야 할텐데</td>\n",
              "      <td>2</td>\n",
              "    </tr>\n",
              "  </tbody>\n",
              "</table>\n",
              "<p>2754 rows × 2 columns</p>\n",
              "</div>\n",
              "      <button class=\"colab-df-convert\" onclick=\"convertToInteractive('df-8f5a8651-60f5-4dfd-945a-f37f78871eab')\"\n",
              "              title=\"Convert this dataframe to an interactive table.\"\n",
              "              style=\"display:none;\">\n",
              "        \n",
              "  <svg xmlns=\"http://www.w3.org/2000/svg\" height=\"24px\"viewBox=\"0 0 24 24\"\n",
              "       width=\"24px\">\n",
              "    <path d=\"M0 0h24v24H0V0z\" fill=\"none\"/>\n",
              "    <path d=\"M18.56 5.44l.94 2.06.94-2.06 2.06-.94-2.06-.94-.94-2.06-.94 2.06-2.06.94zm-11 1L8.5 8.5l.94-2.06 2.06-.94-2.06-.94L8.5 2.5l-.94 2.06-2.06.94zm10 10l.94 2.06.94-2.06 2.06-.94-2.06-.94-.94-2.06-.94 2.06-2.06.94z\"/><path d=\"M17.41 7.96l-1.37-1.37c-.4-.4-.92-.59-1.43-.59-.52 0-1.04.2-1.43.59L10.3 9.45l-7.72 7.72c-.78.78-.78 2.05 0 2.83L4 21.41c.39.39.9.59 1.41.59.51 0 1.02-.2 1.41-.59l7.78-7.78 2.81-2.81c.8-.78.8-2.07 0-2.86zM5.41 20L4 18.59l7.72-7.72 1.47 1.35L5.41 20z\"/>\n",
              "  </svg>\n",
              "      </button>\n",
              "      \n",
              "  <style>\n",
              "    .colab-df-container {\n",
              "      display:flex;\n",
              "      flex-wrap:wrap;\n",
              "      gap: 12px;\n",
              "    }\n",
              "\n",
              "    .colab-df-convert {\n",
              "      background-color: #E8F0FE;\n",
              "      border: none;\n",
              "      border-radius: 50%;\n",
              "      cursor: pointer;\n",
              "      display: none;\n",
              "      fill: #1967D2;\n",
              "      height: 32px;\n",
              "      padding: 0 0 0 0;\n",
              "      width: 32px;\n",
              "    }\n",
              "\n",
              "    .colab-df-convert:hover {\n",
              "      background-color: #E2EBFA;\n",
              "      box-shadow: 0px 1px 2px rgba(60, 64, 67, 0.3), 0px 1px 3px 1px rgba(60, 64, 67, 0.15);\n",
              "      fill: #174EA6;\n",
              "    }\n",
              "\n",
              "    [theme=dark] .colab-df-convert {\n",
              "      background-color: #3B4455;\n",
              "      fill: #D2E3FC;\n",
              "    }\n",
              "\n",
              "    [theme=dark] .colab-df-convert:hover {\n",
              "      background-color: #434B5C;\n",
              "      box-shadow: 0px 1px 3px 1px rgba(0, 0, 0, 0.15);\n",
              "      filter: drop-shadow(0px 1px 2px rgba(0, 0, 0, 0.3));\n",
              "      fill: #FFFFFF;\n",
              "    }\n",
              "  </style>\n",
              "\n",
              "      <script>\n",
              "        const buttonEl =\n",
              "          document.querySelector('#df-8f5a8651-60f5-4dfd-945a-f37f78871eab button.colab-df-convert');\n",
              "        buttonEl.style.display =\n",
              "          google.colab.kernel.accessAllowed ? 'block' : 'none';\n",
              "\n",
              "        async function convertToInteractive(key) {\n",
              "          const element = document.querySelector('#df-8f5a8651-60f5-4dfd-945a-f37f78871eab');\n",
              "          const dataTable =\n",
              "            await google.colab.kernel.invokeFunction('convertToInteractive',\n",
              "                                                     [key], {});\n",
              "          if (!dataTable) return;\n",
              "\n",
              "          const docLinkHtml = 'Like what you see? Visit the ' +\n",
              "            '<a target=\"_blank\" href=https://colab.research.google.com/notebooks/data_table.ipynb>data table notebook</a>'\n",
              "            + ' to learn more about interactive tables.';\n",
              "          element.innerHTML = '';\n",
              "          dataTable['output_type'] = 'display_data';\n",
              "          await google.colab.output.renderOutput(dataTable, element);\n",
              "          const docLink = document.createElement('div');\n",
              "          docLink.innerHTML = docLinkHtml;\n",
              "          element.appendChild(docLink);\n",
              "        }\n",
              "      </script>\n",
              "    </div>\n",
              "  </div>\n",
              "  "
            ],
            "text/plain": [
              "                                                 review  score\n",
              "0                                    여름에 개봉했으면 나았으려나...      5\n",
              "1     재밌었다. 물론 어색한 부분도 있었지만 그래도 극장에서 소리낼 만큼 웃어본 건 좀 ...      7\n",
              "2           형 만한 아우 있기 어렵다는 옛말이 오늘 따라 실시간 뉴스에 나오는 말 같다.      7\n",
              "3                                    펭귄이 다했다 펭귄의 미친 존재감      6\n",
              "4                                     굳이 2편이 나왔어야 할 일인가      4\n",
              "...                                                 ...    ...\n",
              "2994                               평점이 별로라 기대안했는데 은근 꿀잼     10\n",
              "2995  혹평들이 굉장히 많은데 저랑 가족들은 굉장히 재밌게 봤습니다 한효주배우님의 캐릭터의...     10\n",
              "2996  1편에 비해 스케일만 커졌을뿐 개연성 없는 전개와 특히 한효주의 어울리지 않는 억지...      5\n",
              "2997  명절지난후 감독은 대국민사과 그리고 영화비 환불 청문회하기 바란다 난 보면서 196...      1\n",
              "2999                            Kpop을 사랑하는 외국인들 안봐야 할텐데      2\n",
              "\n",
              "[2754 rows x 2 columns]"
            ]
          },
          "metadata": {},
          "execution_count": 59
        }
      ]
    },
    {
      "cell_type": "markdown",
      "source": [
        "## **2. 리뷰 텍스트 전처리**"
      ],
      "metadata": {
        "id": "QaVsV5vWp0d4"
      }
    },
    {
      "cell_type": "markdown",
      "source": [
        "### 1) 사용 단어 분석"
      ],
      "metadata": {
        "id": "uMYGLVxyCNU6"
      }
    },
    {
      "cell_type": "markdown",
      "source": [
        "- 한국어 명사 추출"
      ],
      "metadata": {
        "id": "UA7JFaNSI6LL"
      }
    },
    {
      "cell_type": "code",
      "source": [
        "def only_korean(txt):\n",
        "  pat = '[^ ㄱ-ㅣ 가-힣]'\n",
        "  com = re.compile(pat)\n",
        "  ret = com.sub('',txt)\n",
        "  return ret"
      ],
      "metadata": {
        "id": "q7A1UUD0kD-u"
      },
      "execution_count": null,
      "outputs": []
    },
    {
      "cell_type": "code",
      "source": [
        "all_review = only_korean(''.join(df.review.tolist()))\n",
        "nouns = okt.nouns(all_review)\n",
        "\n",
        "counter = Counter(nouns)\n",
        "counter.most_common(100)"
      ],
      "metadata": {
        "id": "nHi2SYOxq_L9"
      },
      "execution_count": null,
      "outputs": []
    },
    {
      "cell_type": "code",
      "source": [
        "counter.most_common(100)"
      ],
      "metadata": {
        "colab": {
          "base_uri": "https://localhost:8080/"
        },
        "id": "e0Ni9Ra5iXE4",
        "outputId": "78617299-16a5-401f-d2cd-4866b5a15e8f"
      },
      "execution_count": null,
      "outputs": [
        {
          "output_type": "execute_result",
          "data": {
            "text/plain": [
              "[('영화', 1002),\n",
              " ('연기', 553),\n",
              " ('한효주', 405),\n",
              " ('배우', 372),\n",
              " ('스토리', 303),\n",
              " ('진짜', 258),\n",
              " ('해적', 221),\n",
              " ('생각', 219),\n",
              " ('볼', 191),\n",
              " ('정말', 187),\n",
              " ('그냥', 187),\n",
              " ('보기', 184),\n",
              " ('평점', 175),\n",
              " ('시간', 171),\n",
              " ('강하늘', 167),\n",
              " ('이광수', 153),\n",
              " ('돈', 145),\n",
              " ('왜', 143),\n",
              " ('보고', 141),\n",
              " ('중간', 132),\n",
              " ('재미', 126),\n",
              " ('가족', 118),\n",
              " ('좀', 115),\n",
              " ('것', 114),\n",
              " ('안', 105),\n",
              " ('처음', 103),\n",
              " ('최악', 101),\n",
              " ('웃음', 100),\n",
              " ('기대', 97),\n",
              " ('더', 95),\n",
              " ('거', 95),\n",
              " ('정도', 94),\n",
              " ('킬링타임', 89),\n",
              " ('저', 88),\n",
              " ('점', 87),\n",
              " ('연출', 84),\n",
              " ('별로', 82),\n",
              " ('느낌', 82),\n",
              " ('사람', 80),\n",
              " ('용', 79),\n",
              " ('영화관', 78),\n",
              " ('액션', 77),\n",
              " ('권상우', 76),\n",
              " ('때', 75),\n",
              " ('광수', 75),\n",
              " ('편', 74),\n",
              " ('개연', 71),\n",
              " ('이', 70),\n",
              " ('추천', 67),\n",
              " ('대사', 67),\n",
              " ('수', 63),\n",
              " ('하나', 60),\n",
              " ('노잼', 60),\n",
              " ('포인트', 60),\n",
              " ('말', 59),\n",
              " ('만', 57),\n",
              " ('내용', 57),\n",
              " ('걸', 57),\n",
              " ('펭귄', 56),\n",
              " ('듯', 56),\n",
              " ('캐릭터', 55),\n",
              " ('부분', 54),\n",
              " ('뭐', 54),\n",
              " ('오세훈', 53),\n",
              " ('나', 52),\n",
              " ('연기력', 52),\n",
              " ('감독', 52),\n",
              " ('코믹', 51),\n",
              " ('장면', 51),\n",
              " ('도', 50),\n",
              " ('임', 48),\n",
              " ('함', 48),\n",
              " ('코미디', 48),\n",
              " ('내내', 47),\n",
              " ('때문', 47),\n",
              " ('수준', 47),\n",
              " ('최고', 46),\n",
              " ('영상', 44),\n",
              " ('웃기', 43),\n",
              " ('꼭', 42),\n",
              " ('나름', 41),\n",
              " ('얼굴', 41),\n",
              " ('개', 41),\n",
              " ('그', 41),\n",
              " ('극장', 40),\n",
              " ('분', 40),\n",
              " ('번', 40),\n",
              " ('조금', 39),\n",
              " ('명절', 39),\n",
              " ('상미', 38),\n",
              " ('캐리비안', 37),\n",
              " ('억지', 37),\n",
              " ('또', 37),\n",
              " ('완전', 36),\n",
              " ('개그', 36),\n",
              " ('몰입', 36),\n",
              " ('봄', 35),\n",
              " ('전개', 35),\n",
              " ('말투', 34),\n",
              " ('런닝맨', 34)]"
            ]
          },
          "metadata": {},
          "execution_count": 19
        }
      ]
    },
    {
      "cell_type": "markdown",
      "source": [
        "분석 결과\n",
        "1. 것, 좀, 저 등 의미가 내포되어 있지 않은 1글자 단어들이 존재\n",
        "2. 진짜, 정말 등 의미가 없고 꾸미는 역할을 하는 불용어가 존재\n",
        "3. 해적, 영화 등 분석하고자 하는 데이터셋에 특화된 불용어 존재"
      ],
      "metadata": {
        "id": "W9wE-7-LJhaA"
      }
    },
    {
      "cell_type": "markdown",
      "source": [
        "### 2) 텍스트 전처리"
      ],
      "metadata": {
        "id": "1bv3lkHoI766"
      }
    },
    {
      "cell_type": "markdown",
      "source": [
        "- 불용어 리스트 생성"
      ],
      "metadata": {
        "id": "shWudEeJJIzL"
      }
    },
    {
      "cell_type": "code",
      "source": [
        "except_word_list = pd.read_csv(\"https://raw.githubusercontent.com/yoonkt200/FastCampusDataset/master/korean_stopwords.txt\").values.tolist()\n",
        "except_word_list"
      ],
      "metadata": {
        "id": "qYMgVibmus5a"
      },
      "execution_count": null,
      "outputs": []
    },
    {
      "cell_type": "code",
      "source": [
        "additional_word = ['영화', '영화관', '해적', '캐리비안', '도깨비']\n",
        "for word in additional_word:\n",
        "  except_word_list.append(word)"
      ],
      "metadata": {
        "id": "lxj9GrIavKRa"
      },
      "execution_count": null,
      "outputs": []
    },
    {
      "cell_type": "markdown",
      "source": [
        "- 전처리 함수 생성 및 전처리"
      ],
      "metadata": {
        "id": "BuT2nUyCKw5U"
      }
    },
    {
      "cell_type": "code",
      "source": [
        "def text_cleaning(txt):\n",
        "  txt = only_korean(txt)\n",
        "  nouns = okt.nouns(txt)\n",
        "  nouns = [x for x in nouns if len(x)>1]\n",
        "  nouns = [x for x in nouns if x not in except_word_list]\n",
        "\n",
        "  return nouns"
      ],
      "metadata": {
        "id": "p-MZlOQgrl9_"
      },
      "execution_count": null,
      "outputs": []
    },
    {
      "cell_type": "code",
      "source": [
        "# 텍스트 데이터를 분류 모델에 학습 가능한 데이터셋으로 변환\n",
        "# sklearn의 CountVectorizer라는 클래스를 이용\n",
        "\n",
        "vect = CountVectorizer(tokenizer = lambda x: text_cleaning(x)) # tokenizer : text 전처리 방식\n",
        "bow_vect = vect.fit_transform(df['review'].tolist()) # fit_transform : 학습 데이터셋 생성(X데이터)\n",
        "\n",
        "review_vect = vect.get_feature_names()\n",
        "count_vect = bow_vect.toarray().sum(axis=0)"
      ],
      "metadata": {
        "colab": {
          "base_uri": "https://localhost:8080/"
        },
        "id": "INL72SpqMzJS",
        "outputId": "38e76d04-acd1-46dd-afe8-5805f15bd739"
      },
      "execution_count": null,
      "outputs": [
        {
          "output_type": "stream",
          "name": "stderr",
          "text": [
            "/usr/local/lib/python3.7/dist-packages/sklearn/utils/deprecation.py:87: FutureWarning: Function get_feature_names is deprecated; get_feature_names is deprecated in 1.0 and will be removed in 1.2. Please use get_feature_names_out instead.\n",
            "  warnings.warn(msg, category=FutureWarning)\n"
          ]
        }
      ]
    },
    {
      "cell_type": "code",
      "source": [
        "review_count_dict = dict(zip(review_vect, count_vect))\n",
        "review_count_dict"
      ],
      "metadata": {
        "id": "LIC9X2g8N40W"
      },
      "execution_count": null,
      "outputs": []
    },
    {
      "cell_type": "code",
      "source": [
        "# TF-IDF 변환\n",
        "# 문서 내에서 단어의 중요도를 피처로 나타낼 수 있는 방법\n",
        "\n",
        "tfidf_vectorizer = TfidfTransformer()\n",
        "tf_idf_vect = tfidf_vectorizer.fit_transform(bow_vect)"
      ],
      "metadata": {
        "id": "o0pZd-ezOpG6"
      },
      "execution_count": null,
      "outputs": []
    },
    {
      "cell_type": "code",
      "source": [
        "invert_index_vectorizer = {v: k for k, v in vect.vocabulary_.items()}\n",
        "print(str(invert_index_vectorizer)[:100]+'...')"
      ],
      "metadata": {
        "colab": {
          "base_uri": "https://localhost:8080/"
        },
        "id": "PY59Q5r1Oy3O",
        "outputId": "a4f06855-61d4-42a2-c42f-ddcb22fda96b"
      },
      "execution_count": null,
      "outputs": [
        {
          "output_type": "stream",
          "name": "stdout",
          "text": [
            "{146: '연기력', 53: '돈값해', 251: '한효주', 145: '연기', 82: '배역', 86: '별로', 115: '스토리', 141: '여주', 17: '그냥', ...\n"
          ]
        }
      ]
    },
    {
      "cell_type": "markdown",
      "source": [
        "## **3. 모델 학습**"
      ],
      "metadata": {
        "id": "7kCnWf5WPIHC"
      }
    },
    {
      "cell_type": "markdown",
      "source": [
        "### 1) 긍정/부정 리뷰 분류"
      ],
      "metadata": {
        "id": "XkYNf_cOmwp4"
      }
    },
    {
      "cell_type": "markdown",
      "source": [
        "- 분석"
      ],
      "metadata": {
        "id": "J0dGz1uTm5Jm"
      }
    },
    {
      "cell_type": "code",
      "source": [
        "df.score.hist()"
      ],
      "metadata": {
        "colab": {
          "base_uri": "https://localhost:8080/",
          "height": 283
        },
        "id": "Gqce3jSRPaXn",
        "outputId": "6c591f77-4825-4393-8964-fbe5587d956d"
      },
      "execution_count": null,
      "outputs": [
        {
          "output_type": "execute_result",
          "data": {
            "text/plain": [
              "<matplotlib.axes._subplots.AxesSubplot at 0x7efd0df33710>"
            ]
          },
          "metadata": {},
          "execution_count": 211
        },
        {
          "output_type": "display_data",
          "data": {
            "image/png": "[encoded data removed]",
            "text/plain": [
              "<Figure size 432x288 with 1 Axes>"
            ]
          },
          "metadata": {
            "needs_background": "light"
          }
        }
      ]
    },
    {
      "cell_type": "code",
      "source": [
        "df[df.score==7].sample(50)"
      ],
      "metadata": {
        "colab": {
          "base_uri": "https://localhost:8080/",
          "height": 654
        },
        "id": "RUd6b4_FlUJP",
        "outputId": "6a698440-21d0-4c76-e227-5b028ac1106c"
      },
      "execution_count": null,
      "outputs": [
        {
          "output_type": "execute_result",
          "data": {
            "text/html": [
              "\n",
              "  <div id=\"df-7402f48f-9543-46a1-ba97-3592d108a256\">\n",
              "    <div class=\"colab-df-container\">\n",
              "      <div>\n",
              "<style scoped>\n",
              "    .dataframe tbody tr th:only-of-type {\n",
              "        vertical-align: middle;\n",
              "    }\n",
              "\n",
              "    .dataframe tbody tr th {\n",
              "        vertical-align: top;\n",
              "    }\n",
              "\n",
              "    .dataframe thead th {\n",
              "        text-align: right;\n",
              "    }\n",
              "</style>\n",
              "<table border=\"1\" class=\"dataframe\">\n",
              "  <thead>\n",
              "    <tr style=\"text-align: right;\">\n",
              "      <th></th>\n",
              "      <th>review</th>\n",
              "      <th>score</th>\n",
              "    </tr>\n",
              "  </thead>\n",
              "  <tbody>\n",
              "    <tr>\n",
              "      <th>573</th>\n",
              "      <td>코믹이랑 액션신, CG는 그럭저럭 괜찮아여.</td>\n",
              "      <td>7</td>\n",
              "    </tr>\n",
              "    <tr>\n",
              "      <th>1609</th>\n",
              "      <td>그럭저럭 킬링타임으로 보기 좋은영화예요 중간에 졸긴 했지만 무난하게 보기 좋아요!</td>\n",
              "      <td>7</td>\n",
              "    </tr>\n",
              "    <tr>\n",
              "      <th>2755</th>\n",
              "      <td>볼만한, 4D로 보면 생생해서 쪼아요</td>\n",
              "      <td>7</td>\n",
              "    </tr>\n",
              "    <tr>\n",
              "      <th>2709</th>\n",
              "      <td>대사나 발성은 좀 오글거리긴 하는데 웃음포인트 재밌고 바다나오는 씬은 연출 볼만함</td>\n",
              "      <td>7</td>\n",
              "    </tr>\n",
              "    <tr>\n",
              "      <th>9</th>\n",
              "      <td>한효주 연기가..정말..ㅎ턱 치켜들고 중2병 온거같았음</td>\n",
              "      <td>7</td>\n",
              "    </tr>\n",
              "    <tr>\n",
              "      <th>2</th>\n",
              "      <td>형 만한 아우 있기 어렵다는 옛말이 오늘 따라 실시간 뉴스에 나오는 말 같다.</td>\n",
              "      <td>7</td>\n",
              "    </tr>\n",
              "    <tr>\n",
              "      <th>2598</th>\n",
              "      <td>누가 나오지, 어떤 내용인지도 잘 모르고 코로나때문에 몇년만에 남자친구랑 영화를 봤...</td>\n",
              "      <td>7</td>\n",
              "    </tr>\n",
              "    <tr>\n",
              "      <th>502</th>\n",
              "      <td>재미있게 잘봤습니다</td>\n",
              "      <td>7</td>\n",
              "    </tr>\n",
              "    <tr>\n",
              "      <th>2752</th>\n",
              "      <td>재미요소는 정말 많아서 재밌게 봤습니다:)해적1을 너무 재밌게 봐서 기대감이 높아서...</td>\n",
              "      <td>7</td>\n",
              "    </tr>\n",
              "    <tr>\n",
              "      <th>461</th>\n",
              "      <td>솔직히 1편이 너무 압권이라 기대하고 봤는데...좀 실망스럽네요</td>\n",
              "      <td>7</td>\n",
              "    </tr>\n",
              "    <tr>\n",
              "      <th>1403</th>\n",
              "      <td>가볍게 볼만했어요</td>\n",
              "      <td>7</td>\n",
              "    </tr>\n",
              "    <tr>\n",
              "      <th>201</th>\n",
              "      <td>볼만해요 생각없이 그리고 cg가 너무 좋았음</td>\n",
              "      <td>7</td>\n",
              "    </tr>\n",
              "    <tr>\n",
              "      <th>2860</th>\n",
              "      <td>안타깝네요 좋은 연기자들 ...ㅜㅜ 스토리 허접 대사도 허접 그 대사에 연기하러니 ...</td>\n",
              "      <td>7</td>\n",
              "    </tr>\n",
              "    <tr>\n",
              "      <th>2657</th>\n",
              "      <td>가족들과 편하게 보기 좋은 팝콘 영화.</td>\n",
              "      <td>7</td>\n",
              "    </tr>\n",
              "    <tr>\n",
              "      <th>2820</th>\n",
              "      <td>볼만했다, 괜찮게봤다</td>\n",
              "      <td>7</td>\n",
              "    </tr>\n",
              "    <tr>\n",
              "      <th>799</th>\n",
              "      <td>웃음도 있고 집중도 잘되긴하는데 이야기가 살짝 이해하기가 어려운 부분도 있어습니다 ...</td>\n",
              "      <td>7</td>\n",
              "    </tr>\n",
              "    <tr>\n",
              "      <th>1515</th>\n",
              "      <td>평이 별로라서 기대없이 봐서 그런가 몰입감 좋고 재밌게 봤어요. 일부 출연자들의 튀...</td>\n",
              "      <td>7</td>\n",
              "    </tr>\n",
              "    <tr>\n",
              "      <th>5</th>\n",
              "      <td>1편에 비해 아쉬웠지만 팝콘 무비로 괜찮음</td>\n",
              "      <td>7</td>\n",
              "    </tr>\n",
              "    <tr>\n",
              "      <th>1513</th>\n",
              "      <td>그냥 팝콘무비로 나쁘지않다 머리비우고 보면 볼만하다</td>\n",
              "      <td>7</td>\n",
              "    </tr>\n",
              "    <tr>\n",
              "      <th>1293</th>\n",
              "      <td>각본,스토리는 쏘쏘 또는 최악이지만 영상미 하나는 뛰어나다</td>\n",
              "      <td>7</td>\n",
              "    </tr>\n",
              "    <tr>\n",
              "      <th>677</th>\n",
              "      <td>영화는 잼나는데 하~한효주 연기 못봐주겠다 진짜 ㅋㅋ</td>\n",
              "      <td>7</td>\n",
              "    </tr>\n",
              "    <tr>\n",
              "      <th>534</th>\n",
              "      <td>설연휴에 엄마랑 같이 봤는데 유치하지만 설연휴 가족영화로는 나름 볼만했습니다</td>\n",
              "      <td>7</td>\n",
              "    </tr>\n",
              "    <tr>\n",
              "      <th>1705</th>\n",
              "      <td>다른 영화들 가져다가 만든 한국판 \"무서운영화\" 시리즈 느낌?</td>\n",
              "      <td>7</td>\n",
              "    </tr>\n",
              "    <tr>\n",
              "      <th>156</th>\n",
              "      <td>기대안하고 봤는데 재밌었어요! 아쉬운 점이 있다면 산만한 느낌..?</td>\n",
              "      <td>7</td>\n",
              "    </tr>\n",
              "    <tr>\n",
              "      <th>2315</th>\n",
              "      <td>그럭저럭 볼만.</td>\n",
              "      <td>7</td>\n",
              "    </tr>\n",
              "    <tr>\n",
              "      <th>1738</th>\n",
              "      <td>너무 재밌게 잘봤어요~애들 대리고가면 애들이 더 좋아할만 영화같네요..</td>\n",
              "      <td>7</td>\n",
              "    </tr>\n",
              "    <tr>\n",
              "      <th>1526</th>\n",
              "      <td>명절에 개봉하는 전형적인 킬링타임영화. 아무 생각하지 말고 보자</td>\n",
              "      <td>7</td>\n",
              "    </tr>\n",
              "    <tr>\n",
              "      <th>979</th>\n",
              "      <td>전편보다 뭔가 부족한 느낌..근데 킬링타임으로 괜찮았습니다..</td>\n",
              "      <td>7</td>\n",
              "    </tr>\n",
              "    <tr>\n",
              "      <th>687</th>\n",
              "      <td>중후반부까지는산만하게전개되다가후반부는볼만함..평점은7.5점주고싶다</td>\n",
              "      <td>7</td>\n",
              "    </tr>\n",
              "    <tr>\n",
              "      <th>205</th>\n",
              "      <td>좀 유치하고 호불호 나뉠 수 있어 보여요</td>\n",
              "      <td>7</td>\n",
              "    </tr>\n",
              "    <tr>\n",
              "      <th>771</th>\n",
              "      <td>음..허접해요허접한데 웃기긴해요킬링타임용</td>\n",
              "      <td>7</td>\n",
              "    </tr>\n",
              "    <tr>\n",
              "      <th>1150</th>\n",
              "      <td>액션씬들에서 맥을 끊는 편집이 하다가 만 밥처럼 죽같이 물러져 아쉬웠고 평점에서 지...</td>\n",
              "      <td>7</td>\n",
              "    </tr>\n",
              "    <tr>\n",
              "      <th>1030</th>\n",
              "      <td>친구랑 봤는데 그냥 가볍게 보기 좋은듯그리고 오세훈씨 잘생겻어요</td>\n",
              "      <td>7</td>\n",
              "    </tr>\n",
              "    <tr>\n",
              "      <th>1559</th>\n",
              "      <td>아이들과 재밌게 봤습니다. 초딩이 좋아하는 영화입니다.</td>\n",
              "      <td>7</td>\n",
              "    </tr>\n",
              "    <tr>\n",
              "      <th>2328</th>\n",
              "      <td>가족 킬링타임용으로 제격 !</td>\n",
              "      <td>7</td>\n",
              "    </tr>\n",
              "    <tr>\n",
              "      <th>1642</th>\n",
              "      <td>재미로만 보기에 딱인 영화! 강하늘이 이끄네</td>\n",
              "      <td>7</td>\n",
              "    </tr>\n",
              "    <tr>\n",
              "      <th>1407</th>\n",
              "      <td>이광수의 하드캐리. 재미로 보는 영화로는 괜찮습니다.</td>\n",
              "      <td>7</td>\n",
              "    </tr>\n",
              "    <tr>\n",
              "      <th>786</th>\n",
              "      <td>남자배우들의 연기가 좋았다 여배우들은 그닥. 내용은 다소 유치하지만 상당히 재밌고 웃기다</td>\n",
              "      <td>7</td>\n",
              "    </tr>\n",
              "    <tr>\n",
              "      <th>2728</th>\n",
              "      <td>가볍게 보기 좋았어용!</td>\n",
              "      <td>7</td>\n",
              "    </tr>\n",
              "    <tr>\n",
              "      <th>1116</th>\n",
              "      <td>그냥 킬링타임용 영환데 볼만은 한</td>\n",
              "      <td>7</td>\n",
              "    </tr>\n",
              "    <tr>\n",
              "      <th>709</th>\n",
              "      <td>한효주연기는 진짜 너무 어색했네요 나머진괜춘</td>\n",
              "      <td>7</td>\n",
              "    </tr>\n",
              "    <tr>\n",
              "      <th>1501</th>\n",
              "      <td>걍 티키타카 주고 받는 대사가 웃김. 한 번쯤은 볼만 함</td>\n",
              "      <td>7</td>\n",
              "    </tr>\n",
              "    <tr>\n",
              "      <th>2427</th>\n",
              "      <td>그래도 명불허전 배우님들을 보니 좋았습니다.</td>\n",
              "      <td>7</td>\n",
              "    </tr>\n",
              "    <tr>\n",
              "      <th>901</th>\n",
              "      <td>중간중간 억지스럽고 오그라드는 장면이 있긴 했지만 나름 피식 웃으면서 잼있게 봤어요...</td>\n",
              "      <td>7</td>\n",
              "    </tr>\n",
              "    <tr>\n",
              "      <th>1923</th>\n",
              "      <td>코미디성으로 가볍게 볼만함</td>\n",
              "      <td>7</td>\n",
              "    </tr>\n",
              "    <tr>\n",
              "      <th>2465</th>\n",
              "      <td>영화 중간 중간에 개그요소들이 재밌었다</td>\n",
              "      <td>7</td>\n",
              "    </tr>\n",
              "    <tr>\n",
              "      <th>664</th>\n",
              "      <td>주인공 버프가 약간 있었지만 웃으면서 재밌게봤어요</td>\n",
              "      <td>7</td>\n",
              "    </tr>\n",
              "    <tr>\n",
              "      <th>551</th>\n",
              "      <td>재미있었습니다.</td>\n",
              "      <td>7</td>\n",
              "    </tr>\n",
              "    <tr>\n",
              "      <th>1905</th>\n",
              "      <td>재미있게 잘봤지만 뭔가 아쉬운 느낌이랄까...?</td>\n",
              "      <td>7</td>\n",
              "    </tr>\n",
              "    <tr>\n",
              "      <th>2939</th>\n",
              "      <td>초등아이들과 볼 영화.코믹~</td>\n",
              "      <td>7</td>\n",
              "    </tr>\n",
              "  </tbody>\n",
              "</table>\n",
              "</div>\n",
              "      <button class=\"colab-df-convert\" onclick=\"convertToInteractive('df-7402f48f-9543-46a1-ba97-3592d108a256')\"\n",
              "              title=\"Convert this dataframe to an interactive table.\"\n",
              "              style=\"display:none;\">\n",
              "        \n",
              "  <svg xmlns=\"http://www.w3.org/2000/svg\" height=\"24px\"viewBox=\"0 0 24 24\"\n",
              "       width=\"24px\">\n",
              "    <path d=\"M0 0h24v24H0V0z\" fill=\"none\"/>\n",
              "    <path d=\"M18.56 5.44l.94 2.06.94-2.06 2.06-.94-2.06-.94-.94-2.06-.94 2.06-2.06.94zm-11 1L8.5 8.5l.94-2.06 2.06-.94-2.06-.94L8.5 2.5l-.94 2.06-2.06.94zm10 10l.94 2.06.94-2.06 2.06-.94-2.06-.94-.94-2.06-.94 2.06-2.06.94z\"/><path d=\"M17.41 7.96l-1.37-1.37c-.4-.4-.92-.59-1.43-.59-.52 0-1.04.2-1.43.59L10.3 9.45l-7.72 7.72c-.78.78-.78 2.05 0 2.83L4 21.41c.39.39.9.59 1.41.59.51 0 1.02-.2 1.41-.59l7.78-7.78 2.81-2.81c.8-.78.8-2.07 0-2.86zM5.41 20L4 18.59l7.72-7.72 1.47 1.35L5.41 20z\"/>\n",
              "  </svg>\n",
              "      </button>\n",
              "      \n",
              "  <style>\n",
              "    .colab-df-container {\n",
              "      display:flex;\n",
              "      flex-wrap:wrap;\n",
              "      gap: 12px;\n",
              "    }\n",
              "\n",
              "    .colab-df-convert {\n",
              "      background-color: #E8F0FE;\n",
              "      border: none;\n",
              "      border-radius: 50%;\n",
              "      cursor: pointer;\n",
              "      display: none;\n",
              "      fill: #1967D2;\n",
              "      height: 32px;\n",
              "      padding: 0 0 0 0;\n",
              "      width: 32px;\n",
              "    }\n",
              "\n",
              "    .colab-df-convert:hover {\n",
              "      background-color: #E2EBFA;\n",
              "      box-shadow: 0px 1px 2px rgba(60, 64, 67, 0.3), 0px 1px 3px 1px rgba(60, 64, 67, 0.15);\n",
              "      fill: #174EA6;\n",
              "    }\n",
              "\n",
              "    [theme=dark] .colab-df-convert {\n",
              "      background-color: #3B4455;\n",
              "      fill: #D2E3FC;\n",
              "    }\n",
              "\n",
              "    [theme=dark] .colab-df-convert:hover {\n",
              "      background-color: #434B5C;\n",
              "      box-shadow: 0px 1px 3px 1px rgba(0, 0, 0, 0.15);\n",
              "      filter: drop-shadow(0px 1px 2px rgba(0, 0, 0, 0.3));\n",
              "      fill: #FFFFFF;\n",
              "    }\n",
              "  </style>\n",
              "\n",
              "      <script>\n",
              "        const buttonEl =\n",
              "          document.querySelector('#df-7402f48f-9543-46a1-ba97-3592d108a256 button.colab-df-convert');\n",
              "        buttonEl.style.display =\n",
              "          google.colab.kernel.accessAllowed ? 'block' : 'none';\n",
              "\n",
              "        async function convertToInteractive(key) {\n",
              "          const element = document.querySelector('#df-7402f48f-9543-46a1-ba97-3592d108a256');\n",
              "          const dataTable =\n",
              "            await google.colab.kernel.invokeFunction('convertToInteractive',\n",
              "                                                     [key], {});\n",
              "          if (!dataTable) return;\n",
              "\n",
              "          const docLinkHtml = 'Like what you see? Visit the ' +\n",
              "            '<a target=\"_blank\" href=https://colab.research.google.com/notebooks/data_table.ipynb>data table notebook</a>'\n",
              "            + ' to learn more about interactive tables.';\n",
              "          element.innerHTML = '';\n",
              "          dataTable['output_type'] = 'display_data';\n",
              "          await google.colab.output.renderOutput(dataTable, element);\n",
              "          const docLink = document.createElement('div');\n",
              "          docLink.innerHTML = docLinkHtml;\n",
              "          element.appendChild(docLink);\n",
              "        }\n",
              "      </script>\n",
              "    </div>\n",
              "  </div>\n",
              "  "
            ],
            "text/plain": [
              "                                                 review  score\n",
              "573                            코믹이랑 액션신, CG는 그럭저럭 괜찮아여.      7\n",
              "1609      그럭저럭 킬링타임으로 보기 좋은영화예요 중간에 졸긴 했지만 무난하게 보기 좋아요!      7\n",
              "2755                               볼만한, 4D로 보면 생생해서 쪼아요      7\n",
              "2709      대사나 발성은 좀 오글거리긴 하는데 웃음포인트 재밌고 바다나오는 씬은 연출 볼만함      7\n",
              "9                        한효주 연기가..정말..ㅎ턱 치켜들고 중2병 온거같았음      7\n",
              "2           형 만한 아우 있기 어렵다는 옛말이 오늘 따라 실시간 뉴스에 나오는 말 같다.      7\n",
              "2598  누가 나오지, 어떤 내용인지도 잘 모르고 코로나때문에 몇년만에 남자친구랑 영화를 봤...      7\n",
              "502                                          재미있게 잘봤습니다      7\n",
              "2752  재미요소는 정말 많아서 재밌게 봤습니다:)해적1을 너무 재밌게 봐서 기대감이 높아서...      7\n",
              "461                 솔직히 1편이 너무 압권이라 기대하고 봤는데...좀 실망스럽네요      7\n",
              "1403                                          가볍게 볼만했어요      7\n",
              "201                            볼만해요 생각없이 그리고 cg가 너무 좋았음      7\n",
              "2860  안타깝네요 좋은 연기자들 ...ㅜㅜ 스토리 허접 대사도 허접 그 대사에 연기하러니 ...      7\n",
              "2657                              가족들과 편하게 보기 좋은 팝콘 영화.      7\n",
              "2820                                        볼만했다, 괜찮게봤다      7\n",
              "799   웃음도 있고 집중도 잘되긴하는데 이야기가 살짝 이해하기가 어려운 부분도 있어습니다 ...      7\n",
              "1515  평이 별로라서 기대없이 봐서 그런가 몰입감 좋고 재밌게 봤어요. 일부 출연자들의 튀...      7\n",
              "5                               1편에 비해 아쉬웠지만 팝콘 무비로 괜찮음      7\n",
              "1513                       그냥 팝콘무비로 나쁘지않다 머리비우고 보면 볼만하다      7\n",
              "1293                   각본,스토리는 쏘쏘 또는 최악이지만 영상미 하나는 뛰어나다      7\n",
              "677                       영화는 잼나는데 하~한효주 연기 못봐주겠다 진짜 ㅋㅋ      7\n",
              "534          설연휴에 엄마랑 같이 봤는데 유치하지만 설연휴 가족영화로는 나름 볼만했습니다      7\n",
              "1705                 다른 영화들 가져다가 만든 한국판 \"무서운영화\" 시리즈 느낌?      7\n",
              "156               기대안하고 봤는데 재밌었어요! 아쉬운 점이 있다면 산만한 느낌..?      7\n",
              "2315                                           그럭저럭 볼만.      7\n",
              "1738            너무 재밌게 잘봤어요~애들 대리고가면 애들이 더 좋아할만 영화같네요..      7\n",
              "1526                명절에 개봉하는 전형적인 킬링타임영화. 아무 생각하지 말고 보자      7\n",
              "979                  전편보다 뭔가 부족한 느낌..근데 킬링타임으로 괜찮았습니다..      7\n",
              "687                중후반부까지는산만하게전개되다가후반부는볼만함..평점은7.5점주고싶다      7\n",
              "205                              좀 유치하고 호불호 나뉠 수 있어 보여요      7\n",
              "771                              음..허접해요허접한데 웃기긴해요킬링타임용      7\n",
              "1150  액션씬들에서 맥을 끊는 편집이 하다가 만 밥처럼 죽같이 물러져 아쉬웠고 평점에서 지...      7\n",
              "1030                친구랑 봤는데 그냥 가볍게 보기 좋은듯그리고 오세훈씨 잘생겻어요      7\n",
              "1559                     아이들과 재밌게 봤습니다. 초딩이 좋아하는 영화입니다.      7\n",
              "2328                                    가족 킬링타임용으로 제격 !      7\n",
              "1642                           재미로만 보기에 딱인 영화! 강하늘이 이끄네      7\n",
              "1407                      이광수의 하드캐리. 재미로 보는 영화로는 괜찮습니다.      7\n",
              "786   남자배우들의 연기가 좋았다 여배우들은 그닥. 내용은 다소 유치하지만 상당히 재밌고 웃기다      7\n",
              "2728                                       가볍게 보기 좋았어용!      7\n",
              "1116                                 그냥 킬링타임용 영환데 볼만은 한      7\n",
              "709                            한효주연기는 진짜 너무 어색했네요 나머진괜춘      7\n",
              "1501                    걍 티키타카 주고 받는 대사가 웃김. 한 번쯤은 볼만 함      7\n",
              "2427                           그래도 명불허전 배우님들을 보니 좋았습니다.      7\n",
              "901   중간중간 억지스럽고 오그라드는 장면이 있긴 했지만 나름 피식 웃으면서 잼있게 봤어요...      7\n",
              "1923                                     코미디성으로 가볍게 볼만함      7\n",
              "2465                              영화 중간 중간에 개그요소들이 재밌었다      7\n",
              "664                         주인공 버프가 약간 있었지만 웃으면서 재밌게봤어요      7\n",
              "551                                            재미있었습니다.      7\n",
              "1905                         재미있게 잘봤지만 뭔가 아쉬운 느낌이랄까...?      7\n",
              "2939                                    초등아이들과 볼 영화.코믹~      7"
            ]
          },
          "metadata": {},
          "execution_count": 63
        }
      ]
    },
    {
      "cell_type": "markdown",
      "source": [
        "- 분석결과\n",
        "  1. 5점까지는 부정적인 리뷰가 대다수, 6점부터는 긍정적인 리뷰가 우세\n",
        "  2. 1 - 5점까지는 부정 리뷰, 6 - 10점까지는 긍정리뷰로 분류"
      ],
      "metadata": {
        "id": "QQXo_AZnl0MV"
      }
    },
    {
      "cell_type": "markdown",
      "source": [
        "- 분류"
      ],
      "metadata": {
        "id": "5iT-y-K0nQIE"
      }
    },
    {
      "cell_type": "code",
      "source": [
        "def rating_to_label(rating):\n",
        "  if rating >= 6:\n",
        "      return 1\n",
        "  else:\n",
        "      return 0\n",
        "    \n",
        "df['y'] = df['score'].apply(lambda x: rating_to_label(x))"
      ],
      "metadata": {
        "id": "wl2eWYwSPdSv"
      },
      "execution_count": null,
      "outputs": []
    },
    {
      "cell_type": "code",
      "source": [
        "df.y.value_counts()"
      ],
      "metadata": {
        "colab": {
          "base_uri": "https://localhost:8080/"
        },
        "id": "6nIWgvernUBI",
        "outputId": "4c4a321f-1f61-4de1-8d86-46aeff775d03"
      },
      "execution_count": null,
      "outputs": [
        {
          "output_type": "execute_result",
          "data": {
            "text/plain": [
              "1    1421\n",
              "0    1333\n",
              "Name: y, dtype: int64"
            ]
          },
          "metadata": {},
          "execution_count": 247
        }
      ]
    },
    {
      "cell_type": "markdown",
      "source": [
        "### 2) 모델 학습"
      ],
      "metadata": {
        "id": "4W5l1hZDoGkt"
      }
    },
    {
      "cell_type": "markdown",
      "source": [
        "- train, test 데이터셋 생성"
      ],
      "metadata": {
        "id": "y4VAFlqhq_Mw"
      }
    },
    {
      "cell_type": "code",
      "source": [
        "X = tf_idf_vect\n",
        "y = df['y']\n",
        "\n",
        "x_train, x_test, y_train, y_test = train_test_split(X, y, test_size=0.3, random_state=1)"
      ],
      "metadata": {
        "id": "35_6g5jqn2Ja"
      },
      "execution_count": null,
      "outputs": []
    },
    {
      "cell_type": "code",
      "source": [
        "x_train.shape, y_train.shape, x_test.shape, y_test.shape"
      ],
      "metadata": {
        "colab": {
          "base_uri": "https://localhost:8080/"
        },
        "id": "xQIzSlPHrDJH",
        "outputId": "9176e22b-48ac-451b-e69f-e5a7e21ade5c"
      },
      "execution_count": null,
      "outputs": [
        {
          "output_type": "execute_result",
          "data": {
            "text/plain": [
              "((1927, 2558), (1927,), (827, 2558), (827,))"
            ]
          },
          "metadata": {},
          "execution_count": 241
        }
      ]
    },
    {
      "cell_type": "markdown",
      "source": [
        "- 모델 학습 (LogisticRegression Model)"
      ],
      "metadata": {
        "id": "Z6exCft_sbDN"
      }
    },
    {
      "cell_type": "code",
      "source": [
        "lr = LogisticRegression(random_state = 0)\n",
        "lr.fit(x_train, y_train)\n",
        "y_pred = lr.predict(x_test)"
      ],
      "metadata": {
        "id": "tQJskG-QrcUN"
      },
      "execution_count": null,
      "outputs": []
    },
    {
      "cell_type": "markdown",
      "source": [
        "- 성능 평가"
      ],
      "metadata": {
        "id": "urrCDJOAyJ3j"
      }
    },
    {
      "cell_type": "code",
      "source": [
        "print('accuracy: %.2f' % accuracy_score(y_test, y_pred))\n",
        "print('precision: %.2f' % precision_score(y_test, y_pred))\n",
        "print('recall: %.2f' % recall_score(y_test, y_pred))\n",
        "print('F1: %.2f' % f1_score(y_test, y_pred))"
      ],
      "metadata": {
        "colab": {
          "base_uri": "https://localhost:8080/"
        },
        "id": "VOyUdWnCyJEW",
        "outputId": "c193fcd9-9160-4403-f43c-a3774ea7107c"
      },
      "execution_count": null,
      "outputs": [
        {
          "output_type": "stream",
          "name": "stdout",
          "text": [
            "accuracy: 0.69\n",
            "precision: 0.67\n",
            "recall: 0.71\n",
            "F1: 0.69\n"
          ]
        }
      ]
    },
    {
      "cell_type": "markdown",
      "source": [
        "- confusion matrix"
      ],
      "metadata": {
        "id": "euCig3i7yYBs"
      }
    },
    {
      "cell_type": "code",
      "source": [
        "confu = confusion_matrix(y_true = y_test, y_pred = y_pred)\n",
        "\n",
        "plt.figure(figsize=(4, 3))\n",
        "sns.heatmap(confu, annot=True, annot_kws={'size':15}, cmap='OrRd', fmt='.10g')\n",
        "plt.title('Confusion Matrix')\n",
        "plt.show()"
      ],
      "metadata": {
        "colab": {
          "base_uri": "https://localhost:8080/",
          "height": 227
        },
        "id": "IbEXquIsyXG3",
        "outputId": "aff3bc8f-1b76-4b07-831b-8cf7fd52ddb4"
      },
      "execution_count": null,
      "outputs": [
        {
          "output_type": "display_data",
          "data": {
            "image/png": "[encoded data removed]",
            "text/plain": [
              "<Figure size 288x216 with 2 Axes>"
            ]
          },
          "metadata": {
            "needs_background": "light"
          }
        }
      ]
    },
    {
      "cell_type": "markdown",
      "source": [
        "- 정리\n",
        "  1. text 받기\n",
        "  2. text_cleaning 작업 시행( 한국어 추출 -> 명사 형태소 추출 -> 길이 1미만 단어 제거 -> 불용어 제거 )\n",
        "  3. CounterVectorizer 이용 학습 가능 데이터셋으로 전환( like one-hot encoding )\n",
        "  4. TF-IDF 변환"
      ],
      "metadata": {
        "id": "e0tYBz29ztYw"
      }
    },
    {
      "cell_type": "code",
      "source": [
        "invert_index_vectorizer = {v: k for k, v in vect.vocabulary_.items()}\n",
        "invert_index_vectorizer"
      ],
      "metadata": {
        "id": "RiwtHi8ZBK3G"
      },
      "execution_count": null,
      "outputs": []
    },
    {
      "cell_type": "code",
      "source": [
        "coef_pos_index = sorted(((value, index) for index, value in enumerate(lr.coef_[0])), reverse = True)\n",
        "\n",
        "for coef in coef_pos_index[:20]:\n",
        "    print(invert_index_vectorizer[coef[1]], coef[0])"
      ],
      "metadata": {
        "colab": {
          "base_uri": "https://localhost:8080/"
        },
        "id": "NJccaMRG-7e8",
        "outputId": "1632efdc-eb90-45e3-8868-a3748da9d2ab"
      },
      "execution_count": null,
      "outputs": [
        {
          "output_type": "stream",
          "name": "stdout",
          "text": [
            "생각 2.3722001046772347\n",
            "강하늘 2.2006379379597973\n",
            "가족 1.9398812244931654\n",
            "최고 1.7777076703121144\n",
            "나름 1.7456514234678464\n",
            "액션 1.5960271980227052\n",
            "상미 1.4705978363126833\n",
            "기대 1.4380369062481981\n",
            "아이 1.4280839424926957\n",
            "추천 1.426460364464036\n",
            "보기 1.3023666781749073\n",
            "하드캐리 1.2639387469864785\n",
            "개인 1.2426154768502649\n",
            "오세훈 1.2132390034737464\n",
            "평점 1.194604241044086\n",
            "꿀잼 1.192541010222824\n",
            "킬링타임 1.1527498784669281\n",
            "보고 1.0929763873629699\n",
            "완전 1.082441664240697\n",
            "아무 1.0817385154679444\n"
          ]
        }
      ]
    },
    {
      "cell_type": "code",
      "source": [
        "coef_neg_index = sorted(((value, index) for index, value in enumerate(lr.coef_[0])), reverse = False)\n",
        "\n",
        "for coef in coef_neg_index[:20]:\n",
        "    print(invert_index_vectorizer[coef[1]], coef[0])"
      ],
      "metadata": {
        "colab": {
          "base_uri": "https://localhost:8080/"
        },
        "id": "m19xqQzY_YbR",
        "outputId": "9940e729-f488-460c-ca6b-b805c8897269"
      },
      "execution_count": null,
      "outputs": [
        {
          "output_type": "stream",
          "name": "stdout",
          "text": [
            "최악 -2.9532441677021826\n",
            "노잼 -2.2956022367031594\n",
            "처음 -2.0486832167006117\n",
            "감독 -1.957999013738305\n",
            "개연 -1.716540628641725\n",
            "수준 -1.7069195859541648\n",
            "전작 -1.4819678789289734\n",
            "망작 -1.4744364429858041\n",
            "제발 -1.439678674104383\n",
            "감상 -1.4220972867802206\n",
            "김남길 -1.3471493209606042\n",
            "쓰레기 -1.3462348724249111\n",
            "화보 -1.2418085977687465\n",
            "시간 -1.152427993016407\n",
            "일단 -1.092501047866976\n",
            "얼마나 -1.0592619968907495\n",
            "이하 -1.0465028999059944\n",
            "보지 -1.0417731397304877\n",
            "억지 -1.0041346955530437\n",
            "무슨 -1.0036020542897515\n"
          ]
        }
      ]
    },
    {
      "cell_type": "code",
      "source": [
        "def review_analysis(txt):\n",
        "  test_df = df.copy()\n",
        "  test_df.loc[9999] = [txt,0,0]\n",
        "  countvector = CountVectorizer(tokenizer = lambda x: text_cleaning(x)) # tokenizer : text 전처리 방식\n",
        "  encoding_vect = countvector.fit_transform(test_df['review'].tolist()) # fit_transform : 학습 데이터셋 생성(X데이터)\n",
        "\n",
        "  tfidf_vector = TfidfTransformer()\n",
        "  tf_idf_vector = tfidf_vector.fit_transform(encoding_vect)\n",
        "\n",
        "  X = tf_idf_vector[:-1]\n",
        "  y = test_df['y'].iloc[:-1]\n",
        "  test = tf_idf_vector[-1]\n",
        "  print(test)\n",
        "\n",
        "  lr = LogisticRegression(random_state = 0)\n",
        "  lr.fit(X, y)\n",
        "  pred = int(lr.predict(test))\n",
        "\n",
        "  if( pred==1 ):\n",
        "    print(\"긍정적인 리뷰입니다.\")\n",
        "  else:\n",
        "    print(\"부정적인 리뷰입니다.\")\n",
        "\n",
        "  return pred"
      ],
      "metadata": {
        "id": "Xv6QfFU_zrkS"
      },
      "execution_count": null,
      "outputs": []
    },
    {
      "cell_type": "code",
      "source": [
        "review_analysis('개꿀잼입니다.')"
      ],
      "metadata": {
        "colab": {
          "base_uri": "https://localhost:8080/"
        },
        "id": "xOkPhllX7r0-",
        "outputId": "e65ae56b-f0ff-4ae6-d2c4-28bff0058ee3"
      },
      "execution_count": null,
      "outputs": [
        {
          "output_type": "stream",
          "name": "stdout",
          "text": [
            "  (0, 73)\t1.0\n",
            "긍정적인 리뷰입니다.\n"
          ]
        },
        {
          "output_type": "execute_result",
          "data": {
            "text/plain": [
              "1"
            ]
          },
          "metadata": {},
          "execution_count": 261
        }
      ]
    },
    {
      "cell_type": "code",
      "source": [
        ""
      ],
      "metadata": {
        "id": "XqsnvXUU-l-g"
      },
      "execution_count": null,
      "outputs": []
    }
  ]
}